{
 "cells": [
  {
   "cell_type": "code",
   "execution_count": 1,
   "id": "684a0f79",
   "metadata": {},
   "outputs": [],
   "source": [
    "students = ['ravi','grace','naveen','gulf','sameer','farhana','keerthi']"
   ]
  },
  {
   "cell_type": "code",
   "execution_count": 2,
   "id": "c75d7615",
   "metadata": {},
   "outputs": [
    {
     "name": "stdout",
     "output_type": "stream",
     "text": [
      "['ravi', 'grace', 'naveen', 'gulf', 'sameer', 'farhana', 'keerthi']\n"
     ]
    }
   ],
   "source": [
    "print(students)"
   ]
  },
  {
   "cell_type": "code",
   "execution_count": 3,
   "id": "d514495e",
   "metadata": {},
   "outputs": [
    {
     "data": {
      "text/plain": [
       "list"
      ]
     },
     "execution_count": 3,
     "metadata": {},
     "output_type": "execute_result"
    }
   ],
   "source": [
    "type(students)"
   ]
  },
  {
   "cell_type": "code",
   "execution_count": 4,
   "id": "41999090",
   "metadata": {},
   "outputs": [
    {
     "name": "stdout",
     "output_type": "stream",
     "text": [
      "Keep up the good work, Ravi\n"
     ]
    }
   ],
   "source": [
    "print(f\"Keep up the good work, {students[0].title()}\")"
   ]
  },
  {
   "cell_type": "code",
   "execution_count": 5,
   "id": "2ae57389",
   "metadata": {},
   "outputs": [
    {
     "name": "stdout",
     "output_type": "stream",
     "text": [
      "Keep up the good work, Grace\n"
     ]
    }
   ],
   "source": [
    "print(f\"Keep up the good work, {students[1].title()}\")"
   ]
  },
  {
   "cell_type": "code",
   "execution_count": 6,
   "id": "4af4454e",
   "metadata": {},
   "outputs": [
    {
     "name": "stdout",
     "output_type": "stream",
     "text": [
      "Keep up the good work, Ravi\n",
      "Keep up the good work, Grace\n",
      "Keep up the good work, Naveen\n",
      "Keep up the good work, Gulf\n",
      "Keep up the good work, Sameer\n",
      "Keep up the good work, Farhana\n",
      "Keep up the good work, Keerthi\n"
     ]
    }
   ],
   "source": [
    "for x in students:\n",
    "    print(f\"Keep up the good work, {x.title()}\")"
   ]
  },
  {
   "cell_type": "code",
   "execution_count": 8,
   "id": "d635804b",
   "metadata": {},
   "outputs": [
    {
     "name": "stdout",
     "output_type": "stream",
     "text": [
      "Keep up the good work, Ravi\n",
      "Keep up the good work, Grace\n",
      "Keep up the good work, Naveen\n",
      "Keep up the good work, Gulf\n",
      "Keep up the good work, Sameer\n",
      "Keep up the good work, Farhana\n",
      "Keep up the good work, Keerthi\n"
     ]
    }
   ],
   "source": [
    "for a in students:\n",
    "    print(f\"Keep up the good work, {a.title()}\")"
   ]
  },
  {
   "cell_type": "code",
   "execution_count": 10,
   "id": "beccf7b0",
   "metadata": {},
   "outputs": [
    {
     "ename": "NameError",
     "evalue": "name 'mainvar' is not defined",
     "output_type": "error",
     "traceback": [
      "\u001b[1;31m---------------------------------------------------------------------------\u001b[0m",
      "\u001b[1;31mNameError\u001b[0m                                 Traceback (most recent call last)",
      "\u001b[1;32m<ipython-input-10-79cff90acbb9>\u001b[0m in \u001b[0;36m<module>\u001b[1;34m\u001b[0m\n\u001b[1;32m----> 1\u001b[1;33m \u001b[1;32mfor\u001b[0m \u001b[0mtempvar\u001b[0m \u001b[1;32min\u001b[0m \u001b[0mmainvar\u001b[0m\u001b[1;33m:\u001b[0m\u001b[1;33m\u001b[0m\u001b[1;33m\u001b[0m\u001b[0m\n\u001b[0m\u001b[0;32m      2\u001b[0m     \u001b[0mprint\u001b[0m\u001b[1;33m(\u001b[0m\u001b[0mtempvar\u001b[0m\u001b[1;33m)\u001b[0m\u001b[1;33m\u001b[0m\u001b[1;33m\u001b[0m\u001b[0m\n",
      "\u001b[1;31mNameError\u001b[0m: name 'mainvar' is not defined"
     ]
    }
   ],
   "source": [
    "for tempvar in mainvar:\n",
    "    print(tempvar)\n"
   ]
  },
  {
   "cell_type": "code",
   "execution_count": 11,
   "id": "e58f7c1a",
   "metadata": {},
   "outputs": [
    {
     "name": "stdout",
     "output_type": "stream",
     "text": [
      "keep up the good work, Ravi\n",
      "i will be looking forward to recieve your work today, Ravi.\n",
      "\n",
      "keep up the good work, Grace\n",
      "i will be looking forward to recieve your work today, Grace.\n",
      "\n",
      "keep up the good work, Naveen\n",
      "i will be looking forward to recieve your work today, Naveen.\n",
      "\n",
      "keep up the good work, Gulf\n",
      "i will be looking forward to recieve your work today, Gulf.\n",
      "\n",
      "keep up the good work, Sameer\n",
      "i will be looking forward to recieve your work today, Sameer.\n",
      "\n",
      "keep up the good work, Farhana\n",
      "i will be looking forward to recieve your work today, Farhana.\n",
      "\n",
      "keep up the good work, Keerthi\n",
      "i will be looking forward to recieve your work today, Keerthi.\n",
      "\n"
     ]
    }
   ],
   "source": [
    "for a in students:\n",
    "    print(f\"keep up the good work, {a.title()}\")\n",
    "    print(f\"i will be looking forward to recieve your work today, {a.title()}.\\n\")\n",
    "    "
   ]
  },
  {
   "cell_type": "code",
   "execution_count": 12,
   "id": "8616819d",
   "metadata": {},
   "outputs": [
    {
     "name": "stdout",
     "output_type": "stream",
     "text": [
      "keep up the good work, Ravi\n",
      "i will be looking forward to recieve your work today, Ravi.\n",
      "\n",
      "thank you\n",
      "keep up the good work, Grace\n",
      "i will be looking forward to recieve your work today, Grace.\n",
      "\n",
      "thank you\n",
      "keep up the good work, Naveen\n",
      "i will be looking forward to recieve your work today, Naveen.\n",
      "\n",
      "thank you\n",
      "keep up the good work, Gulf\n",
      "i will be looking forward to recieve your work today, Gulf.\n",
      "\n",
      "thank you\n",
      "keep up the good work, Sameer\n",
      "i will be looking forward to recieve your work today, Sameer.\n",
      "\n",
      "thank you\n",
      "keep up the good work, Farhana\n",
      "i will be looking forward to recieve your work today, Farhana.\n",
      "\n",
      "thank you\n",
      "keep up the good work, Keerthi\n",
      "i will be looking forward to recieve your work today, Keerthi.\n",
      "\n",
      "thank you\n"
     ]
    }
   ],
   "source": [
    "for a in students:\n",
    "    print(f\"keep up the good work, {a.title()}\")\n",
    "    print(f\"i will be looking forward to recieve your work today, {a.title()}.\\n\")\n",
    "    \n",
    "    print(\"thank you\")"
   ]
  },
  {
   "cell_type": "code",
   "execution_count": null,
   "id": "21b83a73",
   "metadata": {},
   "outputs": [],
   "source": []
  }
 ],
 "metadata": {
  "kernelspec": {
   "display_name": "Python 3",
   "language": "python",
   "name": "python3"
  },
  "language_info": {
   "codemirror_mode": {
    "name": "ipython",
    "version": 3
   },
   "file_extension": ".py",
   "mimetype": "text/x-python",
   "name": "python",
   "nbconvert_exporter": "python",
   "pygments_lexer": "ipython3",
   "version": "3.8.8"
  }
 },
 "nbformat": 4,
 "nbformat_minor": 5
}
